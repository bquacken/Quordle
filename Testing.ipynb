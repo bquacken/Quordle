{
 "cells": [
  {
   "cell_type": "code",
   "execution_count": 1,
   "id": "5c251dd7",
   "metadata": {},
   "outputs": [],
   "source": [
    "from Quordle import *"
   ]
  },
  {
   "cell_type": "code",
   "execution_count": 2,
   "id": "c743a3ba",
   "metadata": {},
   "outputs": [],
   "source": [
    "Q = Quordle()"
   ]
  },
  {
   "cell_type": "code",
   "execution_count": 3,
   "id": "da29dd51",
   "metadata": {},
   "outputs": [
    {
     "data": {
      "text/plain": [
       "('state',\n",
       " [[1.0, 0.0, 1.0, 0.0, 2.0],\n",
       "  [0.0, 0.0, 1.0, 0.0, 1.0],\n",
       "  [0.0, 0.0, 1.0, 0.0, 0.0],\n",
       "  [2.0, 0.0, 0.0, 0.0, 2.0]])"
      ]
     },
     "execution_count": 3,
     "metadata": {},
     "output_type": "execute_result"
    }
   ],
   "source": [
    "Q.guess('state')"
   ]
  },
  {
   "cell_type": "code",
   "execution_count": 4,
   "id": "8d11db19",
   "metadata": {},
   "outputs": [
    {
     "data": {
      "text/plain": [
       "[7, 8, 5, 7]"
      ]
     },
     "execution_count": 4,
     "metadata": {},
     "output_type": "execute_result"
    }
   ],
   "source": [
    "import numpy as np\n",
    "\n",
    "list(np.random.choice(range(10), 4))"
   ]
  },
  {
   "cell_type": "code",
   "execution_count": 6,
   "id": "17a00dea",
   "metadata": {},
   "outputs": [
    {
     "data": {
      "text/plain": [
       "array(['false', 'renal', 'harpy', 'spine'], dtype='<U5')"
      ]
     },
     "execution_count": 6,
     "metadata": {},
     "output_type": "execute_result"
    }
   ],
   "source": [
    "Q.answer"
   ]
  },
  {
   "cell_type": "code",
   "execution_count": 7,
   "id": "bb236b71",
   "metadata": {},
   "outputs": [
    {
     "data": {
      "text/plain": [
       "('false',\n",
       " [[2.0, 2.0, 2.0, 2.0, 2.0],\n",
       "  [0.0, 1.0, 1.0, 0.0, 1.0],\n",
       "  [0.0, 2.0, 0.0, 0.0, 0.0],\n",
       "  [0.0, 0.0, 0.0, 1.0, 2.0]])"
      ]
     },
     "execution_count": 7,
     "metadata": {},
     "output_type": "execute_result"
    }
   ],
   "source": [
    "Q.guess('false')"
   ]
  },
  {
   "cell_type": "code",
   "execution_count": 8,
   "id": "dae76305",
   "metadata": {},
   "outputs": [
    {
     "data": {
      "text/plain": [
       "('renal',\n",
       " [[0.0, 1.0, 0.0, 1.0, 1.0],\n",
       "  [2.0, 2.0, 2.0, 2.0, 2.0],\n",
       "  [1.0, 0.0, 0.0, 1.0, 0.0],\n",
       "  [0.0, 1.0, 1.0, 0.0, 0.0]])"
      ]
     },
     "execution_count": 8,
     "metadata": {},
     "output_type": "execute_result"
    }
   ],
   "source": [
    "Q.guess('renal')"
   ]
  },
  {
   "cell_type": "code",
   "execution_count": 9,
   "id": "ceac54fb",
   "metadata": {},
   "outputs": [
    {
     "data": {
      "text/plain": [
       "('harpy',\n",
       " [[0.0, 2.0, 0.0, 0.0, 0.0],\n",
       "  [0.0, 1.0, 1.0, 0.0, 0.0],\n",
       "  [2.0, 2.0, 2.0, 2.0, 2.0],\n",
       "  [0.0, 0.0, 0.0, 1.0, 0.0]])"
      ]
     },
     "execution_count": 9,
     "metadata": {},
     "output_type": "execute_result"
    }
   ],
   "source": [
    "Q.guess('harpy')"
   ]
  },
  {
   "cell_type": "code",
   "execution_count": 10,
   "id": "9f977cad",
   "metadata": {},
   "outputs": [
    {
     "data": {
      "text/plain": [
       "['spine',\n",
       " [[1.0, 0.0, 0.0, 0.0, 2.0],\n",
       "  [0.0, 0.0, 0.0, 1.0, 1.0],\n",
       "  [0.0, 1.0, 0.0, 0.0, 0.0],\n",
       "  [2.0, 2.0, 2.0, 2.0, 2.0]]]"
      ]
     },
     "execution_count": 10,
     "metadata": {},
     "output_type": "execute_result"
    }
   ],
   "source": [
    "Q.guess('spine')"
   ]
  },
  {
   "cell_type": "code",
   "execution_count": 11,
   "id": "908c8e63",
   "metadata": {},
   "outputs": [
    {
     "data": {
      "text/plain": [
       "1"
      ]
     },
     "execution_count": 11,
     "metadata": {},
     "output_type": "execute_result"
    }
   ],
   "source": [
    "Q.win"
   ]
  },
  {
   "cell_type": "code",
   "execution_count": 12,
   "id": "8e31d5aa",
   "metadata": {},
   "outputs": [
    {
     "data": {
      "text/plain": [
       "True"
      ]
     },
     "execution_count": 12,
     "metadata": {},
     "output_type": "execute_result"
    }
   ],
   "source": [
    "Q.over"
   ]
  },
  {
   "cell_type": "code",
   "execution_count": 13,
   "id": "f0af080e",
   "metadata": {},
   "outputs": [],
   "source": [
    "Q.reset()"
   ]
  },
  {
   "cell_type": "code",
   "execution_count": 14,
   "id": "c5346d4e",
   "metadata": {},
   "outputs": [
    {
     "data": {
      "text/plain": [
       "('rates',\n",
       " [[0.0, 0.0, 0.0, 1.0, 0.0],\n",
       "  [0.0, 0.0, 0.0, 1.0, 0.0],\n",
       "  [1.0, 0.0, 1.0, 0.0, 1.0],\n",
       "  [1.0, 1.0, 0.0, 0.0, 0.0]])"
      ]
     },
     "execution_count": 14,
     "metadata": {},
     "output_type": "execute_result"
    }
   ],
   "source": [
    "Q.guess('rates')"
   ]
  },
  {
   "cell_type": "code",
   "execution_count": 15,
   "id": "44c67589",
   "metadata": {},
   "outputs": [
    {
     "data": {
      "text/plain": [
       "0"
      ]
     },
     "execution_count": 15,
     "metadata": {},
     "output_type": "execute_result"
    }
   ],
   "source": [
    "Q.win"
   ]
  },
  {
   "cell_type": "code",
   "execution_count": 16,
   "id": "65c98015",
   "metadata": {},
   "outputs": [
    {
     "data": {
      "text/plain": [
       "False"
      ]
     },
     "execution_count": 16,
     "metadata": {},
     "output_type": "execute_result"
    }
   ],
   "source": [
    "Q.over"
   ]
  },
  {
   "cell_type": "code",
   "execution_count": 17,
   "id": "0249bc05",
   "metadata": {},
   "outputs": [
    {
     "data": {
      "text/plain": [
       "[0, 0, 0, 0]"
      ]
     },
     "execution_count": 17,
     "metadata": {},
     "output_type": "execute_result"
    }
   ],
   "source": [
    "Q.done"
   ]
  },
  {
   "cell_type": "code",
   "execution_count": null,
   "id": "ee8b6ee0",
   "metadata": {},
   "outputs": [],
   "source": []
  }
 ],
 "metadata": {
  "kernelspec": {
   "display_name": "Python 3 (ipykernel)",
   "language": "python",
   "name": "python3"
  },
  "language_info": {
   "codemirror_mode": {
    "name": "ipython",
    "version": 3
   },
   "file_extension": ".py",
   "mimetype": "text/x-python",
   "name": "python",
   "nbconvert_exporter": "python",
   "pygments_lexer": "ipython3",
   "version": "3.9.12"
  }
 },
 "nbformat": 4,
 "nbformat_minor": 5
}
